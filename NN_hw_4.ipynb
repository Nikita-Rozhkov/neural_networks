{
  "nbformat": 4,
  "nbformat_minor": 0,
  "metadata": {
    "kernelspec": {
      "language": "python",
      "display_name": "Python 3",
      "name": "python3"
    },
    "language_info": {
      "name": "python",
      "version": "3.7.9",
      "mimetype": "text/x-python",
      "codemirror_mode": {
        "name": "ipython",
        "version": 3
      },
      "pygments_lexer": "ipython3",
      "nbconvert_exporter": "python",
      "file_extension": ".py"
    },
    "colab": {
      "name": "114-hw-4.ipynb",
      "provenance": [],
      "collapsed_sections": []
    }
  },
  "cells": [
    {
      "cell_type": "markdown",
      "metadata": {
        "id": "GJqW1sHnm591"
      },
      "source": [
        "# Урок 4. Сверточные нейронные сети"
      ]
    },
    {
      "cell_type": "markdown",
      "metadata": {
        "id": "k4RMFA6uMGd-"
      },
      "source": [
        "## Домашнее задание\n"
      ]
    },
    {
      "cell_type": "markdown",
      "source": [
        "\n",
        "- обучить сверточную нейронную сеть в стиле AlexNet (с падением размера ядра свертки и последовательностью блоков свертка-пулинг  (conv-pool)-(conv-pool)-...) на датасете fashion-mnist или cifar10\n",
        "- оценить рост точности при увеличении ширины сети (больше ядер)\n",
        "- оценить рост точности при увеличении глубины сети (больше слоев)\n",
        "- (опциционально)сравнить с точностью полносвязной сети для этой выборки"
      ],
      "metadata": {
        "id": "gvDaBtmGgc4I"
      }
    },
    {
      "cell_type": "markdown",
      "source": [
        "### Подключение библиотек"
      ],
      "metadata": {
        "id": "GU2giJWBgqWU"
      }
    },
    {
      "cell_type": "code",
      "metadata": {
        "id": "xTtpq-UGMdlJ",
        "execution": {
          "iopub.status.busy": "2021-05-31T14:48:49.972368Z",
          "iopub.execute_input": "2021-05-31T14:48:49.972777Z",
          "iopub.status.idle": "2021-05-31T14:48:55.699825Z",
          "shell.execute_reply.started": "2021-05-31T14:48:49.972728Z",
          "shell.execute_reply": "2021-05-31T14:48:55.698891Z"
        },
        "trusted": true
      },
      "source": [
        "import matplotlib.pyplot as plt\n",
        "import numpy as np\n",
        "import tensorflow as tf\n",
        "\n",
        "from tensorflow.keras.models import Sequential\n",
        "from tensorflow.keras import models, layers, losses, datasets\n",
        "\n",
        "from tensorflow.keras.losses import categorical_crossentropy"
      ],
      "execution_count": null,
      "outputs": []
    },
    {
      "cell_type": "markdown",
      "metadata": {
        "id": "5DG50UeNNzGx"
      },
      "source": [
        "### Загрузка данных"
      ]
    },
    {
      "cell_type": "code",
      "metadata": {
        "id": "xs7PFw6LOLoc",
        "execution": {
          "iopub.status.busy": "2021-05-31T14:49:02.614313Z",
          "iopub.execute_input": "2021-05-31T14:49:02.614748Z",
          "iopub.status.idle": "2021-05-31T14:49:07.616243Z",
          "shell.execute_reply.started": "2021-05-31T14:49:02.614718Z",
          "shell.execute_reply": "2021-05-31T14:49:07.614970Z"
        },
        "trusted": true,
        "outputId": "b6b77d5c-f2fd-42fd-fd45-d300e88cdacf"
      },
      "source": [
        "(x_train, y_train), (x_test, y_test) = datasets.fashion_mnist.load_data()\n",
        "\n",
        "x_train = tf.pad(x_train, [[0, 0], [2,2], [2,2]])/255\n",
        "x_test = tf.pad(x_test, [[0, 0], [2,2], [2,2]])/255\n",
        "\n",
        "x_train = tf.expand_dims(x_train, axis=3, name=None)\n",
        "x_test = tf.expand_dims(x_test, axis=3, name=None)\n",
        "\n",
        "x_train = tf.repeat(x_train, 3, axis=3)\n",
        "x_test = tf.repeat(x_test, 3, axis=3)\n",
        "\n",
        "x_val = x_train[-2000:,:,:,:]\n",
        "y_val = y_train[-2000:]\n",
        "x_train = x_train[:-2000,:,:,:]\n",
        "y_train = y_train[:-2000]"
      ],
      "execution_count": null,
      "outputs": [
        {
          "output_type": "stream",
          "text": [
            "Downloading data from https://storage.googleapis.com/tensorflow/tf-keras-datasets/train-labels-idx1-ubyte.gz\n",
            "32768/29515 [=================================] - 0s 0us/step\n",
            "Downloading data from https://storage.googleapis.com/tensorflow/tf-keras-datasets/train-images-idx3-ubyte.gz\n",
            "26427392/26421880 [==============================] - 0s 0us/step\n",
            "Downloading data from https://storage.googleapis.com/tensorflow/tf-keras-datasets/t10k-labels-idx1-ubyte.gz\n",
            "8192/5148 [===============================================] - 0s 0us/step\n",
            "Downloading data from https://storage.googleapis.com/tensorflow/tf-keras-datasets/t10k-images-idx3-ubyte.gz\n",
            "4423680/4422102 [==============================] - 0s 0us/step\n"
          ],
          "name": "stdout"
        }
      ]
    },
    {
      "cell_type": "markdown",
      "source": [
        "### Построение нейронной сети в стиле AlexNet"
      ],
      "metadata": {
        "id": "RfYdpwzRg3tQ"
      }
    },
    {
      "cell_type": "code",
      "metadata": {
        "id": "RoznyZSTToGL",
        "execution": {
          "iopub.status.busy": "2021-05-31T14:49:13.904365Z",
          "iopub.execute_input": "2021-05-31T14:49:13.904750Z",
          "iopub.status.idle": "2021-05-31T14:49:14.091781Z",
          "shell.execute_reply.started": "2021-05-31T14:49:13.904708Z",
          "shell.execute_reply": "2021-05-31T14:49:14.090867Z"
        },
        "trusted": true,
        "outputId": "1fd6f019-d834-4bc0-e703-b4ea18239a14"
      },
      "source": [
        "# инициализация пустой модели\n",
        "model = Sequential()\n",
        "\n",
        "model.add(layers.experimental.preprocessing.Resizing(224, 224, interpolation=\"bilinear\", input_shape=x_train.shape[1:]))\n",
        "\n",
        "model.add(layers.Conv2D(96, 11, strides=4, padding='same'))\n",
        "model.add(layers.Lambda(tf.nn.local_response_normalization))\n",
        "model.add(layers.Activation('relu'))\n",
        "model.add(layers.MaxPooling2D(3, strides=2))\n",
        "\n",
        "model.add(layers.Conv2D(256, 5, strides=4, padding='same'))\n",
        "model.add(layers.Lambda(tf.nn.local_response_normalization))\n",
        "model.add(layers.Activation('relu'))\n",
        "model.add(layers.MaxPooling2D(3, strides=2))\n",
        "\n",
        "model.add(layers.Conv2D(384, 3, strides=4, padding='same'))\n",
        "model.add(layers.Activation('relu'))\n",
        "\n",
        "model.add(layers.Conv2D(384, 3, strides=4, padding='same'))\n",
        "model.add(layers.Activation('relu'))\n",
        "\n",
        "model.add(layers.Conv2D(256, 3, strides=4, padding='same'))\n",
        "model.add(layers.Activation('relu'))\n",
        "\n",
        "# сглаживание CNN выхода для присоединения к полносвязному слою\n",
        "model.add(layers.Flatten())\n",
        "\n",
        "# первый полносвязный слой\n",
        "model.add(layers.Dense(4096, activation='relu'))\n",
        "model.add(layers.Dropout(0.5))\n",
        "\n",
        "# второй полносвязный слой\n",
        "model.add(layers.Dense(4096, activation='relu'))\n",
        "model.add(layers.Dropout(0.5))\n",
        "\n",
        "# выходной слой с функцией активации softmax\n",
        "model.add(layers.Dense(10, activation='softmax'))\n",
        "model.summary()"
      ],
      "execution_count": null,
      "outputs": [
        {
          "output_type": "stream",
          "text": [
            "Model: \"sequential\"\n",
            "_________________________________________________________________\n",
            "Layer (type)                 Output Shape              Param #   \n",
            "=================================================================\n",
            "resizing (Resizing)          (None, 224, 224, 3)       0         \n",
            "_________________________________________________________________\n",
            "conv2d (Conv2D)              (None, 56, 56, 96)        34944     \n",
            "_________________________________________________________________\n",
            "lambda (Lambda)              (None, 56, 56, 96)        0         \n",
            "_________________________________________________________________\n",
            "activation (Activation)      (None, 56, 56, 96)        0         \n",
            "_________________________________________________________________\n",
            "max_pooling2d (MaxPooling2D) (None, 27, 27, 96)        0         \n",
            "_________________________________________________________________\n",
            "conv2d_1 (Conv2D)            (None, 7, 7, 256)         614656    \n",
            "_________________________________________________________________\n",
            "lambda_1 (Lambda)            (None, 7, 7, 256)         0         \n",
            "_________________________________________________________________\n",
            "activation_1 (Activation)    (None, 7, 7, 256)         0         \n",
            "_________________________________________________________________\n",
            "max_pooling2d_1 (MaxPooling2 (None, 3, 3, 256)         0         \n",
            "_________________________________________________________________\n",
            "conv2d_2 (Conv2D)            (None, 1, 1, 384)         885120    \n",
            "_________________________________________________________________\n",
            "activation_2 (Activation)    (None, 1, 1, 384)         0         \n",
            "_________________________________________________________________\n",
            "conv2d_3 (Conv2D)            (None, 1, 1, 384)         1327488   \n",
            "_________________________________________________________________\n",
            "activation_3 (Activation)    (None, 1, 1, 384)         0         \n",
            "_________________________________________________________________\n",
            "conv2d_4 (Conv2D)            (None, 1, 1, 256)         884992    \n",
            "_________________________________________________________________\n",
            "activation_4 (Activation)    (None, 1, 1, 256)         0         \n",
            "_________________________________________________________________\n",
            "flatten (Flatten)            (None, 256)               0         \n",
            "_________________________________________________________________\n",
            "dense (Dense)                (None, 4096)              1052672   \n",
            "_________________________________________________________________\n",
            "dropout (Dropout)            (None, 4096)              0         \n",
            "_________________________________________________________________\n",
            "dense_1 (Dense)              (None, 4096)              16781312  \n",
            "_________________________________________________________________\n",
            "dropout_1 (Dropout)          (None, 4096)              0         \n",
            "_________________________________________________________________\n",
            "dense_2 (Dense)              (None, 10)                40970     \n",
            "=================================================================\n",
            "Total params: 21,622,154\n",
            "Trainable params: 21,622,154\n",
            "Non-trainable params: 0\n",
            "_________________________________________________________________\n"
          ],
          "name": "stdout"
        }
      ]
    },
    {
      "cell_type": "code",
      "metadata": {
        "id": "yEMQnTHwXmYE",
        "execution": {
          "iopub.status.busy": "2021-05-31T14:49:53.852157Z",
          "iopub.execute_input": "2021-05-31T14:49:53.852574Z",
          "iopub.status.idle": "2021-05-31T15:09:53.645047Z",
          "shell.execute_reply.started": "2021-05-31T14:49:53.852542Z",
          "shell.execute_reply": "2021-05-31T15:09:53.643917Z"
        },
        "trusted": true,
        "outputId": "51d32923-0db7-4187-f837-cb0d435245cb"
      },
      "source": [
        "# компиляция модели\n",
        "model.compile(optimizer='adam',\n",
        "              loss=losses.sparse_categorical_crossentropy, \n",
        "              metrics=['accuracy'])\n",
        "\n",
        "history = model.fit(x=x_train, y=y_train, \n",
        "                    batch_size=64, \n",
        "                    epochs=20, \n",
        "                    validation_data=(x_val, y_val),\n",
        "                    verbose=1)"
      ],
      "execution_count": null,
      "outputs": [
        {
          "output_type": "stream",
          "text": [
            "Epoch 1/20\n",
            "907/907 [==============================] - 64s 67ms/step - loss: 1.0238 - accuracy: 0.5758 - val_loss: 0.3729 - val_accuracy: 0.8690\n",
            "Epoch 2/20\n",
            "907/907 [==============================] - 60s 66ms/step - loss: 0.3372 - accuracy: 0.8767 - val_loss: 0.2929 - val_accuracy: 0.8910\n",
            "Epoch 3/20\n",
            "907/907 [==============================] - 60s 66ms/step - loss: 0.2926 - accuracy: 0.8949 - val_loss: 0.3111 - val_accuracy: 0.8780\n",
            "Epoch 4/20\n",
            "907/907 [==============================] - 60s 66ms/step - loss: 0.2664 - accuracy: 0.9060 - val_loss: 0.2742 - val_accuracy: 0.9060\n",
            "Epoch 5/20\n",
            "907/907 [==============================] - 60s 66ms/step - loss: 0.2386 - accuracy: 0.9134 - val_loss: 0.2927 - val_accuracy: 0.9005\n",
            "Epoch 6/20\n",
            "907/907 [==============================] - 60s 66ms/step - loss: 0.2258 - accuracy: 0.9191 - val_loss: 0.2552 - val_accuracy: 0.9125\n",
            "Epoch 7/20\n",
            "907/907 [==============================] - 60s 66ms/step - loss: 0.1989 - accuracy: 0.9280 - val_loss: 0.2497 - val_accuracy: 0.9170\n",
            "Epoch 8/20\n",
            "907/907 [==============================] - 60s 66ms/step - loss: 0.1870 - accuracy: 0.9344 - val_loss: 0.2461 - val_accuracy: 0.9175\n",
            "Epoch 9/20\n",
            "907/907 [==============================] - 60s 66ms/step - loss: 0.1809 - accuracy: 0.9365 - val_loss: 0.2337 - val_accuracy: 0.9150\n",
            "Epoch 10/20\n",
            "907/907 [==============================] - 60s 66ms/step - loss: 0.1605 - accuracy: 0.9424 - val_loss: 0.2596 - val_accuracy: 0.9190\n",
            "Epoch 11/20\n",
            "907/907 [==============================] - 60s 66ms/step - loss: 0.1493 - accuracy: 0.9469 - val_loss: 0.2422 - val_accuracy: 0.9240\n",
            "Epoch 12/20\n",
            "907/907 [==============================] - 60s 66ms/step - loss: 0.1434 - accuracy: 0.9494 - val_loss: 0.2520 - val_accuracy: 0.9205\n",
            "Epoch 13/20\n",
            "907/907 [==============================] - 60s 66ms/step - loss: 0.1395 - accuracy: 0.9501 - val_loss: 0.2515 - val_accuracy: 0.9250\n",
            "Epoch 14/20\n",
            "907/907 [==============================] - 60s 66ms/step - loss: 0.1242 - accuracy: 0.9569 - val_loss: 0.2892 - val_accuracy: 0.9220\n",
            "Epoch 15/20\n",
            "907/907 [==============================] - 60s 66ms/step - loss: 0.1111 - accuracy: 0.9608 - val_loss: 0.2519 - val_accuracy: 0.9255\n",
            "Epoch 16/20\n",
            "907/907 [==============================] - 60s 66ms/step - loss: 0.1137 - accuracy: 0.9605 - val_loss: 0.2920 - val_accuracy: 0.9200\n",
            "Epoch 17/20\n",
            "907/907 [==============================] - 60s 66ms/step - loss: 0.0987 - accuracy: 0.9647 - val_loss: 0.3440 - val_accuracy: 0.9260\n",
            "Epoch 18/20\n",
            "907/907 [==============================] - 60s 66ms/step - loss: 0.0890 - accuracy: 0.9700 - val_loss: 0.3028 - val_accuracy: 0.9265\n",
            "Epoch 19/20\n",
            "907/907 [==============================] - 60s 66ms/step - loss: 0.0904 - accuracy: 0.9684 - val_loss: 0.2950 - val_accuracy: 0.9265\n",
            "Epoch 20/20\n",
            "907/907 [==============================] - 60s 66ms/step - loss: 0.0782 - accuracy: 0.9741 - val_loss: 0.3888 - val_accuracy: 0.9170\n"
          ],
          "name": "stdout"
        }
      ]
    },
    {
      "cell_type": "code",
      "metadata": {
        "id": "0ZRnVIokcCrU",
        "execution": {
          "iopub.status.busy": "2021-05-31T15:10:35.703361Z",
          "iopub.execute_input": "2021-05-31T15:10:35.703775Z",
          "iopub.status.idle": "2021-05-31T15:10:36.164145Z",
          "shell.execute_reply.started": "2021-05-31T15:10:35.703742Z",
          "shell.execute_reply": "2021-05-31T15:10:36.162842Z"
        },
        "trusted": true,
        "outputId": "063b43a3-92d1-4b9a-e29b-e92085c2ce5a"
      },
      "source": [
        "fig, axs = plt.subplots(2, 1, figsize=(15,15))\n",
        "\n",
        "axs[0].plot(history.history['loss'])\n",
        "axs[0].plot(history.history['val_loss'])\n",
        "axs[0].title.set_text('Training Loss vs Validation Loss')\n",
        "axs[0].set_xlabel('Epochs')\n",
        "axs[0].set_ylabel('Loss')\n",
        "axs[0].legend(['Train', 'Val'])\n",
        "\n",
        "axs[1].plot(history.history['accuracy'])\n",
        "axs[1].plot(history.history['val_accuracy'])\n",
        "axs[1].title.set_text('Training Accuracy vs Validation Accuracy')\n",
        "axs[1].set_xlabel('Epochs')\n",
        "axs[1].set_ylabel('Accuracy')\n",
        "axs[1].legend(['Train', 'Val'])"
      ],
      "execution_count": null,
      "outputs": [
        {
          "output_type": "execute_result",
          "data": {
            "text/plain": [
              "<matplotlib.legend.Legend at 0x7f48a01b6650>"
            ]
          },
          "metadata": {
            "tags": []
          },
          "execution_count": 7
        },
        {
          "output_type": "display_data",
          "data": {
            "text/plain": [
              "<Figure size 1080x1080 with 2 Axes>"
            ],
            "image/png": "[encoded data removed]"
          },
          "metadata": {
            "tags": [],
            "needs_background": "light"
          }
        }
      ]
    },
    {
      "cell_type": "code",
      "metadata": {
        "id": "miZYKt7sZGy4",
        "execution": {
          "iopub.status.busy": "2021-05-31T15:11:06.480546Z",
          "iopub.execute_input": "2021-05-31T15:11:06.480965Z",
          "iopub.status.idle": "2021-05-31T15:11:10.907073Z",
          "shell.execute_reply.started": "2021-05-31T15:11:06.480916Z",
          "shell.execute_reply": "2021-05-31T15:11:10.905969Z"
        },
        "trusted": true,
        "outputId": "a57489d5-cd5b-4c9c-84ae-c6562dfcb660"
      },
      "source": [
        "test_score = model.evaluate(x_test, y_test)\n",
        "print(\"Test loss {:.4f}, accuracy {:.2f}%\".format(test_score[0], test_score[1] * 100))\n"
      ],
      "execution_count": null,
      "outputs": [
        {
          "output_type": "stream",
          "text": [
            "313/313 [==============================] - 4s 14ms/step - loss: 0.4343 - accuracy: 0.9080\n",
            "Test loss 0.4343, accuracy 90.80%\n"
          ],
          "name": "stdout"
        }
      ]
    },
    {
      "cell_type": "markdown",
      "metadata": {
        "id": "ATqK_AVzPxfg"
      },
      "source": [
        "### Увеличение ширины сети"
      ]
    },
    {
      "cell_type": "code",
      "metadata": {
        "id": "MFFnIuy6jrt6",
        "execution": {
          "iopub.status.busy": "2021-05-31T15:23:11.697240Z",
          "iopub.execute_input": "2021-05-31T15:23:11.697634Z",
          "iopub.status.idle": "2021-05-31T15:23:11.702581Z",
          "shell.execute_reply.started": "2021-05-31T15:23:11.697604Z",
          "shell.execute_reply": "2021-05-31T15:23:11.701237Z"
        },
        "trusted": true
      },
      "source": [
        "result_width = []"
      ],
      "execution_count": null,
      "outputs": []
    },
    {
      "cell_type": "code",
      "metadata": {
        "id": "FcVRwTIskdW5",
        "execution": {
          "iopub.status.busy": "2021-05-31T15:23:31.416601Z",
          "iopub.execute_input": "2021-05-31T15:23:31.417006Z",
          "iopub.status.idle": "2021-05-31T15:23:31.622611Z",
          "shell.execute_reply.started": "2021-05-31T15:23:31.416973Z",
          "shell.execute_reply": "2021-05-31T15:23:31.621481Z"
        },
        "trusted": true
      },
      "source": [
        "def models_width(width_1=256, width_2=384, epochs=10):\n",
        "    model = Sequential()\n",
        "\n",
        "    model.add(layers.experimental.preprocessing.Resizing(224, 224, interpolation=\"bilinear\", input_shape=x_train.shape[1:]))\n",
        "\n",
        "    model.add(layers.Conv2D(96, 11, strides=4, padding='same'))\n",
        "    model.add(layers.Lambda(tf.nn.local_response_normalization))\n",
        "    model.add(layers.Activation('relu'))\n",
        "    model.add(layers.MaxPooling2D(3, strides=2))\n",
        "\n",
        "    model.add(layers.Conv2D(width_1, 5, strides=4, padding='same'))\n",
        "    model.add(layers.Lambda(tf.nn.local_response_normalization))\n",
        "    model.add(layers.Activation('relu'))\n",
        "    model.add(layers.MaxPooling2D(3, strides=2))\n",
        "\n",
        "    model.add(layers.Conv2D(width_2, 3, strides=4, padding='same'))\n",
        "    model.add(layers.Activation('relu'))\n",
        "\n",
        "    model.add(layers.Conv2D(width_2, 3, strides=4, padding='same'))\n",
        "    model.add(layers.Activation('relu'))\n",
        "\n",
        "    model.add(layers.Conv2D(width_1, 3, strides=4, padding='same'))\n",
        "    model.add(layers.Activation('relu'))\n",
        "\n",
        "    # сглаживание CNN выхода для присоединения к полносвязному слою\n",
        "    model.add(layers.Flatten())\n",
        "\n",
        "    # первый полносвязный слой\n",
        "    model.add(layers.Dense(4096, activation='relu'))\n",
        "    model.add(layers.Dropout(0.5))\n",
        "\n",
        "    # второй полносвязный слой\n",
        "    model.add(layers.Dense(4096, activation='relu'))\n",
        "    model.add(layers.Dropout(0.5))\n",
        "\n",
        "    # выходной слой с функцией активации softmax\n",
        "    model.add(layers.Dense(10, activation='softmax'))\n",
        "    \n",
        "    # компиляция модели\n",
        "    model.compile(optimizer='adam',\n",
        "                  loss=losses.sparse_categorical_crossentropy, \n",
        "                  metrics=['accuracy'])\n",
        "\n",
        "    model.fit(x=x_train, y=y_train, \n",
        "                    batch_size=64, \n",
        "                    epochs=epochs, \n",
        "                    validation_data=(x_val, y_val),\n",
        "                    verbose=1)\n",
        "    \n",
        "    [loss, accuracy] = model.evaluate(x_test, y_test)\n",
        "    print(\"Test loss {:.4f}, accuracy {:.2f}%\".format(loss, accuracy * 100))\n",
        "    \n",
        "    # накопление результатов\n",
        "    result_width.append([width_1, width_2, loss, accuracy])\n",
        "    \n",
        "    return result_width"
      ],
      "execution_count": null,
      "outputs": []
    },
    {
      "cell_type": "code",
      "metadata": {
        "id": "iBY_PIoUkf3O",
        "execution": {
          "iopub.status.busy": "2021-05-31T15:23:37.696741Z",
          "iopub.execute_input": "2021-05-31T15:23:37.697146Z",
          "iopub.status.idle": "2021-05-31T15:33:39.769279Z",
          "shell.execute_reply.started": "2021-05-31T15:23:37.697114Z",
          "shell.execute_reply": "2021-05-31T15:33:39.768327Z"
        },
        "trusted": true,
        "outputId": "1da5b2ee-1fa7-42c5-badd-ebee8e60294c"
      },
      "source": [
        "models_width(256, 384, epochs=10)"
      ],
      "execution_count": null,
      "outputs": [
        {
          "output_type": "stream",
          "text": [
            "Epoch 1/10\n",
            "907/907 [==============================] - 60s 66ms/step - loss: 0.9484 - accuracy: 0.6128 - val_loss: 0.3600 - val_accuracy: 0.8650\n",
            "Epoch 2/10\n",
            "907/907 [==============================] - 60s 66ms/step - loss: 0.3433 - accuracy: 0.8782 - val_loss: 0.2759 - val_accuracy: 0.8935\n",
            "Epoch 3/10\n",
            "907/907 [==============================] - 60s 66ms/step - loss: 0.2968 - accuracy: 0.8936 - val_loss: 0.2661 - val_accuracy: 0.9030\n",
            "Epoch 4/10\n",
            "907/907 [==============================] - 60s 66ms/step - loss: 0.2664 - accuracy: 0.9034 - val_loss: 0.2640 - val_accuracy: 0.9040\n",
            "Epoch 5/10\n",
            "907/907 [==============================] - 60s 66ms/step - loss: 0.2358 - accuracy: 0.9137 - val_loss: 0.2521 - val_accuracy: 0.9100\n",
            "Epoch 6/10\n",
            "907/907 [==============================] - 60s 66ms/step - loss: 0.2250 - accuracy: 0.9212 - val_loss: 0.2399 - val_accuracy: 0.9180\n",
            "Epoch 7/10\n",
            "907/907 [==============================] - 59s 66ms/step - loss: 0.2003 - accuracy: 0.9273 - val_loss: 0.2484 - val_accuracy: 0.9105\n",
            "Epoch 8/10\n",
            "907/907 [==============================] - 60s 66ms/step - loss: 0.1884 - accuracy: 0.9324 - val_loss: 0.2450 - val_accuracy: 0.9135\n",
            "Epoch 9/10\n",
            "907/907 [==============================] - 59s 66ms/step - loss: 0.1759 - accuracy: 0.9367 - val_loss: 0.2580 - val_accuracy: 0.9120\n",
            "Epoch 10/10\n",
            "907/907 [==============================] - 59s 66ms/step - loss: 0.1667 - accuracy: 0.9409 - val_loss: 0.2857 - val_accuracy: 0.9075\n",
            "313/313 [==============================] - 4s 13ms/step - loss: 0.2990 - accuracy: 0.9046\n",
            "Test loss 0.2990, accuracy 90.46%\n"
          ],
          "name": "stdout"
        },
        {
          "output_type": "execute_result",
          "data": {
            "text/plain": [
              "[[256, 384, 0.298981249332428, 0.9046000242233276]]"
            ]
          },
          "metadata": {
            "tags": []
          },
          "execution_count": 14
        }
      ]
    },
    {
      "cell_type": "code",
      "metadata": {
        "id": "BwZK_Hc3oclc",
        "execution": {
          "iopub.status.busy": "2021-05-31T15:34:43.410754Z",
          "iopub.execute_input": "2021-05-31T15:34:43.411177Z",
          "iopub.status.idle": "2021-05-31T15:45:37.433695Z",
          "shell.execute_reply.started": "2021-05-31T15:34:43.411144Z",
          "shell.execute_reply": "2021-05-31T15:45:37.432545Z"
        },
        "trusted": true,
        "outputId": "578f3bfc-b16c-4c30-dd9a-bb32418c9d3d"
      },
      "source": [
        "models_width(384, 576, epochs=10)"
      ],
      "execution_count": null,
      "outputs": [
        {
          "output_type": "stream",
          "text": [
            "Epoch 1/10\n",
            "907/907 [==============================] - 66s 72ms/step - loss: 1.0437 - accuracy: 0.5673 - val_loss: 0.3430 - val_accuracy: 0.8750\n",
            "Epoch 2/10\n",
            "907/907 [==============================] - 65s 72ms/step - loss: 0.3467 - accuracy: 0.8764 - val_loss: 0.3306 - val_accuracy: 0.8800\n",
            "Epoch 3/10\n",
            "907/907 [==============================] - 65s 72ms/step - loss: 0.2854 - accuracy: 0.8984 - val_loss: 0.3099 - val_accuracy: 0.8865\n",
            "Epoch 4/10\n",
            "907/907 [==============================] - 65s 72ms/step - loss: 0.2569 - accuracy: 0.9072 - val_loss: 0.2559 - val_accuracy: 0.9100\n",
            "Epoch 5/10\n",
            "907/907 [==============================] - 64s 71ms/step - loss: 0.2393 - accuracy: 0.9153 - val_loss: 0.2839 - val_accuracy: 0.8985\n",
            "Epoch 6/10\n",
            "907/907 [==============================] - 65s 71ms/step - loss: 0.2095 - accuracy: 0.9257 - val_loss: 0.2620 - val_accuracy: 0.9075\n",
            "Epoch 7/10\n",
            "907/907 [==============================] - 65s 72ms/step - loss: 0.1937 - accuracy: 0.9319 - val_loss: 0.2412 - val_accuracy: 0.9135\n",
            "Epoch 8/10\n",
            "907/907 [==============================] - 65s 71ms/step - loss: 0.1799 - accuracy: 0.9356 - val_loss: 0.2634 - val_accuracy: 0.9100\n",
            "Epoch 9/10\n",
            "907/907 [==============================] - 65s 72ms/step - loss: 0.1666 - accuracy: 0.9404 - val_loss: 0.2982 - val_accuracy: 0.9050\n",
            "Epoch 10/10\n",
            "907/907 [==============================] - 65s 71ms/step - loss: 0.1552 - accuracy: 0.9447 - val_loss: 0.2481 - val_accuracy: 0.9225\n",
            "313/313 [==============================] - 5s 14ms/step - loss: 0.2784 - accuracy: 0.9118\n",
            "Test loss 0.2784, accuracy 91.18%\n"
          ],
          "name": "stdout"
        },
        {
          "output_type": "execute_result",
          "data": {
            "text/plain": [
              "[[256, 384, 0.298981249332428, 0.9046000242233276],\n",
              " [384, 576, 0.27835166454315186, 0.9118000268936157]]"
            ]
          },
          "metadata": {
            "tags": []
          },
          "execution_count": 15
        }
      ]
    },
    {
      "cell_type": "code",
      "metadata": {
        "id": "vT4wKzM_o-uH",
        "execution": {
          "iopub.status.busy": "2021-05-31T15:45:59.699178Z",
          "iopub.execute_input": "2021-05-31T15:45:59.699560Z",
          "iopub.status.idle": "2021-05-31T15:58:41.755591Z",
          "shell.execute_reply.started": "2021-05-31T15:45:59.699527Z",
          "shell.execute_reply": "2021-05-31T15:58:41.754531Z"
        },
        "trusted": true,
        "outputId": "cf409e7d-485e-478f-b496-f68c8c4530d6"
      },
      "source": [
        "models_width(576, 864, epochs=10)"
      ],
      "execution_count": null,
      "outputs": [
        {
          "output_type": "stream",
          "text": [
            "Epoch 1/10\n",
            "907/907 [==============================] - 77s 84ms/step - loss: 1.0113 - accuracy: 0.5801 - val_loss: 0.3356 - val_accuracy: 0.8715\n",
            "Epoch 2/10\n",
            "907/907 [==============================] - 75s 83ms/step - loss: 0.3393 - accuracy: 0.8794 - val_loss: 0.2875 - val_accuracy: 0.8965\n",
            "Epoch 3/10\n",
            "907/907 [==============================] - 76s 83ms/step - loss: 0.2848 - accuracy: 0.8964 - val_loss: 0.3081 - val_accuracy: 0.8885\n",
            "Epoch 4/10\n",
            "907/907 [==============================] - 76s 84ms/step - loss: 0.2588 - accuracy: 0.9065 - val_loss: 0.2690 - val_accuracy: 0.9030\n",
            "Epoch 5/10\n",
            "907/907 [==============================] - 76s 83ms/step - loss: 0.2340 - accuracy: 0.9156 - val_loss: 0.2684 - val_accuracy: 0.9065\n",
            "Epoch 6/10\n",
            "907/907 [==============================] - 75s 83ms/step - loss: 0.2188 - accuracy: 0.9196 - val_loss: 0.2502 - val_accuracy: 0.9170\n",
            "Epoch 7/10\n",
            "907/907 [==============================] - 76s 83ms/step - loss: 0.2005 - accuracy: 0.9296 - val_loss: 0.2222 - val_accuracy: 0.9215\n",
            "Epoch 8/10\n",
            "907/907 [==============================] - 75s 83ms/step - loss: 0.1864 - accuracy: 0.9330 - val_loss: 0.2365 - val_accuracy: 0.9115\n",
            "Epoch 9/10\n",
            "907/907 [==============================] - 76s 83ms/step - loss: 0.1649 - accuracy: 0.9404 - val_loss: 0.2424 - val_accuracy: 0.9190\n",
            "Epoch 10/10\n",
            "907/907 [==============================] - 76s 83ms/step - loss: 0.1527 - accuracy: 0.9464 - val_loss: 0.2403 - val_accuracy: 0.9220\n",
            "313/313 [==============================] - 5s 16ms/step - loss: 0.2752 - accuracy: 0.9141\n",
            "Test loss 0.2752, accuracy 91.41%\n"
          ],
          "name": "stdout"
        },
        {
          "output_type": "execute_result",
          "data": {
            "text/plain": [
              "[[256, 384, 0.298981249332428, 0.9046000242233276],\n",
              " [384, 576, 0.27835166454315186, 0.9118000268936157],\n",
              " [576, 864, 0.27520933747291565, 0.9140999913215637]]"
            ]
          },
          "metadata": {
            "tags": []
          },
          "execution_count": 16
        }
      ]
    },
    {
      "cell_type": "code",
      "metadata": {
        "execution": {
          "iopub.status.busy": "2021-05-31T15:58:51.147042Z",
          "iopub.execute_input": "2021-05-31T15:58:51.147425Z",
          "iopub.status.idle": "2021-05-31T16:15:07.146671Z",
          "shell.execute_reply.started": "2021-05-31T15:58:51.147392Z",
          "shell.execute_reply": "2021-05-31T16:15:07.145170Z"
        },
        "trusted": true,
        "id": "ylUEcffOwACd",
        "outputId": "fd3cb4ac-cfd6-416e-e44e-d4e6122ddd2e"
      },
      "source": [
        "models_width(864, 1296, epochs=10)"
      ],
      "execution_count": null,
      "outputs": [
        {
          "output_type": "stream",
          "text": [
            "Epoch 1/10\n",
            "907/907 [==============================] - 98s 107ms/step - loss: 1.0202 - accuracy: 0.5787 - val_loss: 0.4090 - val_accuracy: 0.8560\n",
            "Epoch 2/10\n",
            "907/907 [==============================] - 97s 107ms/step - loss: 0.3618 - accuracy: 0.8711 - val_loss: 0.3683 - val_accuracy: 0.8695\n",
            "Epoch 3/10\n",
            "907/907 [==============================] - 97s 107ms/step - loss: 0.3066 - accuracy: 0.8905 - val_loss: 0.3334 - val_accuracy: 0.8875\n",
            "Epoch 4/10\n",
            "907/907 [==============================] - 97s 107ms/step - loss: 0.2728 - accuracy: 0.9028 - val_loss: 0.2875 - val_accuracy: 0.8975\n",
            "Epoch 5/10\n",
            "907/907 [==============================] - 97s 107ms/step - loss: 0.2466 - accuracy: 0.9120 - val_loss: 0.2624 - val_accuracy: 0.9045\n",
            "Epoch 6/10\n",
            "907/907 [==============================] - 97s 107ms/step - loss: 0.2309 - accuracy: 0.9162 - val_loss: 0.2548 - val_accuracy: 0.9115\n",
            "Epoch 7/10\n",
            "907/907 [==============================] - 97s 107ms/step - loss: 0.2089 - accuracy: 0.9252 - val_loss: 0.2712 - val_accuracy: 0.9115\n",
            "Epoch 8/10\n",
            "907/907 [==============================] - 97s 107ms/step - loss: 0.1982 - accuracy: 0.9280 - val_loss: 0.2487 - val_accuracy: 0.9095\n",
            "Epoch 9/10\n",
            "907/907 [==============================] - 97s 107ms/step - loss: 0.1943 - accuracy: 0.9289 - val_loss: 0.2394 - val_accuracy: 0.9190\n",
            "Epoch 10/10\n",
            "907/907 [==============================] - 97s 107ms/step - loss: 0.1651 - accuracy: 0.9411 - val_loss: 0.2768 - val_accuracy: 0.9210\n",
            "313/313 [==============================] - 6s 19ms/step - loss: 0.3055 - accuracy: 0.9105\n",
            "Test loss 0.3055, accuracy 91.05%\n"
          ],
          "name": "stdout"
        },
        {
          "output_type": "execute_result",
          "data": {
            "text/plain": [
              "[[256, 384, 0.298981249332428, 0.9046000242233276],\n",
              " [384, 576, 0.27835166454315186, 0.9118000268936157],\n",
              " [576, 864, 0.27520933747291565, 0.9140999913215637],\n",
              " [864, 1296, 0.3054559528827667, 0.9104999899864197]]"
            ]
          },
          "metadata": {
            "tags": []
          },
          "execution_count": 17
        }
      ]
    },
    {
      "cell_type": "code",
      "metadata": {
        "id": "wQknRr15rydh",
        "execution": {
          "iopub.status.busy": "2021-05-31T16:17:51.596664Z",
          "iopub.execute_input": "2021-05-31T16:17:51.597076Z",
          "iopub.status.idle": "2021-05-31T16:17:51.613343Z",
          "shell.execute_reply.started": "2021-05-31T16:17:51.597043Z",
          "shell.execute_reply": "2021-05-31T16:17:51.611864Z"
        },
        "trusted": true,
        "outputId": "14ea9b07-13ac-47e3-fed7-d6fd132c6c69"
      },
      "source": [
        "import pandas as pd\n",
        "# Оценка влияния увеличения ширины сети на тестовой выборке\n",
        "pd.DataFrame(result_width, columns=['width_1','width_2',\n",
        "                              'loss', 'accuracy'\n",
        "                              ]).\\\n",
        "                              sort_values('accuracy',ascending=False).head(4)"
      ],
      "execution_count": null,
      "outputs": [
        {
          "output_type": "execute_result",
          "data": {
            "text/plain": [
              "   width_1  width_2      loss  accuracy\n",
              "2      576      864  0.275209    0.9141\n",
              "1      384      576  0.278352    0.9118\n",
              "3      864     1296  0.305456    0.9105\n",
              "0      256      384  0.298981    0.9046"
            ],
            "text/html": [
              "<div>\n",
              "<style scoped>\n",
              "    .dataframe tbody tr th:only-of-type {\n",
              "        vertical-align: middle;\n",
              "    }\n",
              "\n",
              "    .dataframe tbody tr th {\n",
              "        vertical-align: top;\n",
              "    }\n",
              "\n",
              "    .dataframe thead th {\n",
              "        text-align: right;\n",
              "    }\n",
              "</style>\n",
              "<table border=\"1\" class=\"dataframe\">\n",
              "  <thead>\n",
              "    <tr style=\"text-align: right;\">\n",
              "      <th></th>\n",
              "      <th>width_1</th>\n",
              "      <th>width_2</th>\n",
              "      <th>loss</th>\n",
              "      <th>accuracy</th>\n",
              "    </tr>\n",
              "  </thead>\n",
              "  <tbody>\n",
              "    <tr>\n",
              "      <th>2</th>\n",
              "      <td>576</td>\n",
              "      <td>864</td>\n",
              "      <td>0.275209</td>\n",
              "      <td>0.9141</td>\n",
              "    </tr>\n",
              "    <tr>\n",
              "      <th>1</th>\n",
              "      <td>384</td>\n",
              "      <td>576</td>\n",
              "      <td>0.278352</td>\n",
              "      <td>0.9118</td>\n",
              "    </tr>\n",
              "    <tr>\n",
              "      <th>3</th>\n",
              "      <td>864</td>\n",
              "      <td>1296</td>\n",
              "      <td>0.305456</td>\n",
              "      <td>0.9105</td>\n",
              "    </tr>\n",
              "    <tr>\n",
              "      <th>0</th>\n",
              "      <td>256</td>\n",
              "      <td>384</td>\n",
              "      <td>0.298981</td>\n",
              "      <td>0.9046</td>\n",
              "    </tr>\n",
              "  </tbody>\n",
              "</table>\n",
              "</div>"
            ]
          },
          "metadata": {
            "tags": []
          },
          "execution_count": 20
        }
      ]
    },
    {
      "cell_type": "markdown",
      "metadata": {
        "id": "ID5SS4k4pwif"
      },
      "source": [
        "### Увеличение глубины сети"
      ]
    },
    {
      "cell_type": "code",
      "metadata": {
        "id": "b6Fw-FeWqrsP",
        "execution": {
          "iopub.status.busy": "2021-05-31T17:00:08.263308Z",
          "iopub.execute_input": "2021-05-31T17:00:08.263724Z",
          "iopub.status.idle": "2021-05-31T17:00:08.271670Z",
          "shell.execute_reply.started": "2021-05-31T17:00:08.263690Z",
          "shell.execute_reply": "2021-05-31T17:00:08.270372Z"
        },
        "trusted": true
      },
      "source": [
        "result_depth = []"
      ],
      "execution_count": null,
      "outputs": []
    },
    {
      "cell_type": "code",
      "metadata": {
        "id": "k5oD7uDhrGXR",
        "execution": {
          "iopub.status.busy": "2021-05-31T17:01:18.776270Z",
          "iopub.execute_input": "2021-05-31T17:01:18.776631Z",
          "iopub.status.idle": "2021-05-31T17:01:18.806818Z",
          "shell.execute_reply.started": "2021-05-31T17:01:18.776599Z",
          "shell.execute_reply": "2021-05-31T17:01:18.805135Z"
        },
        "trusted": true
      },
      "source": [
        "def models_depth(depth=2, width_1=256, width_2=384, epochs=10):\n",
        "    model = Sequential()\n",
        "\n",
        "    model.add(layers.experimental.preprocessing.Resizing(224, 224, interpolation=\"bilinear\", input_shape=x_train.shape[1:]))\n",
        "\n",
        "    model.add(layers.Conv2D(96, 11, strides=4, padding='same'))\n",
        "    model.add(layers.Lambda(tf.nn.local_response_normalization))\n",
        "    model.add(layers.Activation('relu'))\n",
        "    model.add(layers.MaxPooling2D(3, strides=2))\n",
        "\n",
        "    model.add(layers.Conv2D(width_1, 5, strides=4, padding='same'))\n",
        "    model.add(layers.Lambda(tf.nn.local_response_normalization))\n",
        "    model.add(layers.Activation('relu'))\n",
        "    model.add(layers.MaxPooling2D(3, strides=2))\n",
        "    \n",
        "    for _ in range(depth):\n",
        "        model.add(layers.Conv2D(width_2, 3, strides=4, padding='same'))\n",
        "        model.add(layers.Activation('relu'))\n",
        "\n",
        "    model.add(layers.Conv2D(width_1, 3, strides=2, padding='same'))\n",
        "    model.add(layers.Activation('relu'))\n",
        "\n",
        "    # сглаживание CNN выхода для присоединения к полносвязному слою\n",
        "    model.add(layers.Flatten())\n",
        "\n",
        "    # первый полносвязный слой\n",
        "    model.add(layers.Dense(4096, activation='relu'))\n",
        "    model.add(layers.Dropout(0.5))\n",
        "\n",
        "    # второй полносвязный слой\n",
        "    model.add(layers.Dense(4096, activation='relu'))\n",
        "    model.add(layers.Dropout(0.5))\n",
        "\n",
        "    # выходной слой с функцией активации softmax\n",
        "    model.add(layers.Dense(10, activation='softmax'))\n",
        "    \n",
        "    # компиляция модели\n",
        "    model.compile(optimizer='adam',\n",
        "                  loss=losses.sparse_categorical_crossentropy, \n",
        "                  metrics=['accuracy'])\n",
        "\n",
        "    model.fit(x=x_train, y=y_train, \n",
        "                    batch_size=64, \n",
        "                    epochs=epochs, \n",
        "                    validation_data=(x_val, y_val),\n",
        "                    verbose=1)\n",
        "    \n",
        "    [loss, accuracy] = model.evaluate(x_test, y_test)\n",
        "    print(\"Test loss {:.4f}, accuracy {:.2f}%\".format(loss, accuracy * 100))\n",
        "    \n",
        "    # накопление результатов\n",
        "    result_depth.append([width_1, width_2, depth, loss, accuracy])\n",
        "    \n",
        "    return result_depth"
      ],
      "execution_count": null,
      "outputs": []
    },
    {
      "cell_type": "code",
      "metadata": {
        "id": "1olLAcKFtBT6",
        "execution": {
          "iopub.status.busy": "2021-05-31T17:01:47.107179Z",
          "iopub.execute_input": "2021-05-31T17:01:47.107609Z",
          "iopub.status.idle": "2021-05-31T17:14:23.605136Z",
          "shell.execute_reply.started": "2021-05-31T17:01:47.107574Z",
          "shell.execute_reply": "2021-05-31T17:14:23.603988Z"
        },
        "trusted": true,
        "outputId": "4e9e2f56-9abb-4abb-a6aa-5072e938d607"
      },
      "source": [
        "models_depth(depth=2, width_1=576, width_2=864, epochs=10)"
      ],
      "execution_count": null,
      "outputs": [
        {
          "output_type": "stream",
          "text": [
            "Epoch 1/10\n",
            "907/907 [==============================] - 76s 83ms/step - loss: 1.1271 - accuracy: 0.5347 - val_loss: 0.3361 - val_accuracy: 0.8705\n",
            "Epoch 2/10\n",
            "907/907 [==============================] - 75s 83ms/step - loss: 0.3467 - accuracy: 0.8747 - val_loss: 0.3031 - val_accuracy: 0.8860\n",
            "Epoch 3/10\n",
            "907/907 [==============================] - 75s 83ms/step - loss: 0.2961 - accuracy: 0.8932 - val_loss: 0.2677 - val_accuracy: 0.9015\n",
            "Epoch 4/10\n",
            "907/907 [==============================] - 75s 83ms/step - loss: 0.2645 - accuracy: 0.9063 - val_loss: 0.3066 - val_accuracy: 0.8855\n",
            "Epoch 5/10\n",
            "907/907 [==============================] - 75s 83ms/step - loss: 0.2515 - accuracy: 0.9090 - val_loss: 0.2366 - val_accuracy: 0.9135\n",
            "Epoch 6/10\n",
            "907/907 [==============================] - 75s 83ms/step - loss: 0.2228 - accuracy: 0.9203 - val_loss: 0.2595 - val_accuracy: 0.9120\n",
            "Epoch 7/10\n",
            "907/907 [==============================] - 75s 83ms/step - loss: 0.2118 - accuracy: 0.9227 - val_loss: 0.2434 - val_accuracy: 0.9095\n",
            "Epoch 8/10\n",
            "907/907 [==============================] - 75s 83ms/step - loss: 0.1921 - accuracy: 0.9306 - val_loss: 0.2486 - val_accuracy: 0.9110\n",
            "Epoch 9/10\n",
            "907/907 [==============================] - 75s 83ms/step - loss: 0.1801 - accuracy: 0.9346 - val_loss: 0.2455 - val_accuracy: 0.9140\n",
            "Epoch 10/10\n",
            "907/907 [==============================] - 75s 83ms/step - loss: 0.1715 - accuracy: 0.9383 - val_loss: 0.2476 - val_accuracy: 0.9085\n",
            "313/313 [==============================] - 5s 16ms/step - loss: 0.2957 - accuracy: 0.9031\n",
            "Test loss 0.2957, accuracy 90.31%\n"
          ],
          "name": "stdout"
        },
        {
          "output_type": "execute_result",
          "data": {
            "text/plain": [
              "[[576, 864, 2, 0.29571598768234253, 0.9031000137329102]]"
            ]
          },
          "metadata": {
            "tags": []
          },
          "execution_count": 30
        }
      ]
    },
    {
      "cell_type": "code",
      "metadata": {
        "id": "RlPhWhcCtPv9",
        "execution": {
          "iopub.status.busy": "2021-05-31T17:14:46.612572Z",
          "iopub.execute_input": "2021-05-31T17:14:46.613043Z",
          "iopub.status.idle": "2021-05-31T17:28:28.123125Z",
          "shell.execute_reply.started": "2021-05-31T17:14:46.612995Z",
          "shell.execute_reply": "2021-05-31T17:28:28.122072Z"
        },
        "trusted": true,
        "outputId": "fa4deb85-ac2b-4847-e626-d0dc1bb9b9ac"
      },
      "source": [
        "models_depth(depth=3, width_1=576, width_2=864, epochs=10)"
      ],
      "execution_count": null,
      "outputs": [
        {
          "output_type": "stream",
          "text": [
            "Epoch 1/10\n",
            "907/907 [==============================] - 83s 90ms/step - loss: 1.1108 - accuracy: 0.5282 - val_loss: 0.3950 - val_accuracy: 0.8605\n",
            "Epoch 2/10\n",
            "907/907 [==============================] - 81s 90ms/step - loss: 0.3813 - accuracy: 0.8676 - val_loss: 0.2956 - val_accuracy: 0.8935\n",
            "Epoch 3/10\n",
            "907/907 [==============================] - 81s 90ms/step - loss: 0.3034 - accuracy: 0.8921 - val_loss: 0.2902 - val_accuracy: 0.8990\n",
            "Epoch 4/10\n",
            "907/907 [==============================] - 81s 90ms/step - loss: 0.2718 - accuracy: 0.9036 - val_loss: 0.2603 - val_accuracy: 0.9130\n",
            "Epoch 5/10\n",
            "907/907 [==============================] - 81s 90ms/step - loss: 0.2606 - accuracy: 0.9072 - val_loss: 0.2639 - val_accuracy: 0.9000\n",
            "Epoch 6/10\n",
            "907/907 [==============================] - 81s 90ms/step - loss: 0.2305 - accuracy: 0.9181 - val_loss: 0.2434 - val_accuracy: 0.9145\n",
            "Epoch 7/10\n",
            "907/907 [==============================] - 82s 90ms/step - loss: 0.2099 - accuracy: 0.9244 - val_loss: 0.2438 - val_accuracy: 0.9135\n",
            "Epoch 8/10\n",
            "907/907 [==============================] - 81s 90ms/step - loss: 0.1931 - accuracy: 0.9317 - val_loss: 0.2501 - val_accuracy: 0.9130\n",
            "Epoch 9/10\n",
            "907/907 [==============================] - 82s 90ms/step - loss: 0.1814 - accuracy: 0.9348 - val_loss: 0.2678 - val_accuracy: 0.9175\n",
            "Epoch 10/10\n",
            "907/907 [==============================] - 82s 90ms/step - loss: 0.1742 - accuracy: 0.9385 - val_loss: 0.2436 - val_accuracy: 0.9225\n",
            "313/313 [==============================] - 5s 17ms/step - loss: 0.2859 - accuracy: 0.9109\n",
            "Test loss 0.2859, accuracy 91.09%\n"
          ],
          "name": "stdout"
        },
        {
          "output_type": "execute_result",
          "data": {
            "text/plain": [
              "[[576, 864, 2, 0.29571598768234253, 0.9031000137329102],\n",
              " [576, 864, 3, 0.28589770197868347, 0.9108999967575073]]"
            ]
          },
          "metadata": {
            "tags": []
          },
          "execution_count": 31
        }
      ]
    },
    {
      "cell_type": "code",
      "metadata": {
        "id": "9LgPnn9QtWtA",
        "execution": {
          "iopub.status.busy": "2021-05-31T17:43:58.216346Z",
          "iopub.execute_input": "2021-05-31T17:43:58.216914Z",
          "iopub.status.idle": "2021-05-31T17:58:43.449597Z",
          "shell.execute_reply.started": "2021-05-31T17:43:58.216869Z",
          "shell.execute_reply": "2021-05-31T17:58:43.448471Z"
        },
        "trusted": true,
        "outputId": "3c1cbef1-2471-4a99-a294-a384450884a3"
      },
      "source": [
        "models_depth(depth=4, width_1=576, width_2=864, epochs=10)"
      ],
      "execution_count": null,
      "outputs": [
        {
          "output_type": "stream",
          "text": [
            "Epoch 1/10\n",
            "907/907 [==============================] - 89s 97ms/step - loss: 1.2624 - accuracy: 0.4716 - val_loss: 0.4046 - val_accuracy: 0.8475\n",
            "Epoch 2/10\n",
            "907/907 [==============================] - 88s 97ms/step - loss: 0.3967 - accuracy: 0.8632 - val_loss: 0.3214 - val_accuracy: 0.8820\n",
            "Epoch 3/10\n",
            "907/907 [==============================] - 88s 97ms/step - loss: 0.3252 - accuracy: 0.8841 - val_loss: 0.3430 - val_accuracy: 0.8735\n",
            "Epoch 4/10\n",
            "907/907 [==============================] - 88s 97ms/step - loss: 0.2979 - accuracy: 0.8940 - val_loss: 0.2938 - val_accuracy: 0.8920\n",
            "Epoch 5/10\n",
            "907/907 [==============================] - 88s 97ms/step - loss: 0.2627 - accuracy: 0.9078 - val_loss: 0.2892 - val_accuracy: 0.8955\n",
            "Epoch 6/10\n",
            "907/907 [==============================] - 88s 97ms/step - loss: 0.2505 - accuracy: 0.9107 - val_loss: 0.3116 - val_accuracy: 0.9005\n",
            "Epoch 7/10\n",
            "907/907 [==============================] - 88s 97ms/step - loss: 0.2238 - accuracy: 0.9197 - val_loss: 0.2738 - val_accuracy: 0.9005\n",
            "Epoch 8/10\n",
            "907/907 [==============================] - 88s 97ms/step - loss: 0.2183 - accuracy: 0.9212 - val_loss: 0.3647 - val_accuracy: 0.8780\n",
            "Epoch 9/10\n",
            "907/907 [==============================] - 88s 97ms/step - loss: 0.2076 - accuracy: 0.9271 - val_loss: 0.2640 - val_accuracy: 0.9080\n",
            "Epoch 10/10\n",
            "907/907 [==============================] - 88s 97ms/step - loss: 0.1814 - accuracy: 0.9373 - val_loss: 0.3214 - val_accuracy: 0.8890\n",
            "313/313 [==============================] - 6s 18ms/step - loss: 0.3397 - accuracy: 0.8890\n",
            "Test loss 0.3397, accuracy 88.90%\n"
          ],
          "name": "stdout"
        },
        {
          "output_type": "execute_result",
          "data": {
            "text/plain": [
              "[[576, 864, 2, 0.29571598768234253, 0.9031000137329102],\n",
              " [576, 864, 3, 0.28589770197868347, 0.9108999967575073],\n",
              " [576, 864, 4, 0.2754720151424408, 0.9114000201225281],\n",
              " [576, 864, 4, 0.3396640419960022, 0.8889999985694885]]"
            ]
          },
          "metadata": {
            "tags": []
          },
          "execution_count": 33
        }
      ]
    },
    {
      "cell_type": "code",
      "metadata": {
        "execution": {
          "iopub.status.busy": "2021-05-31T17:58:43.454050Z",
          "iopub.execute_input": "2021-05-31T17:58:43.454380Z",
          "iopub.status.idle": "2021-05-31T18:09:37.113942Z",
          "shell.execute_reply.started": "2021-05-31T17:58:43.454347Z",
          "shell.execute_reply": "2021-05-31T18:09:37.112593Z"
        },
        "trusted": true,
        "id": "BjIip3zFwACh",
        "outputId": "38c31397-437a-46b3-da97-8bb5810a4e78"
      },
      "source": [
        "models_depth(depth=2, width_1=384, width_2=576, epochs=10)"
      ],
      "execution_count": null,
      "outputs": [
        {
          "output_type": "stream",
          "text": [
            "Epoch 1/10\n",
            "907/907 [==============================] - 66s 72ms/step - loss: 0.9884 - accuracy: 0.5944 - val_loss: 0.3514 - val_accuracy: 0.8695\n",
            "Epoch 2/10\n",
            "907/907 [==============================] - 65s 72ms/step - loss: 0.3513 - accuracy: 0.8724 - val_loss: 0.2918 - val_accuracy: 0.8845\n",
            "Epoch 3/10\n",
            "907/907 [==============================] - 65s 72ms/step - loss: 0.2921 - accuracy: 0.8941 - val_loss: 0.2998 - val_accuracy: 0.8875\n",
            "Epoch 4/10\n",
            "907/907 [==============================] - 65s 72ms/step - loss: 0.2627 - accuracy: 0.9042 - val_loss: 0.3018 - val_accuracy: 0.8950\n",
            "Epoch 5/10\n",
            "907/907 [==============================] - 65s 71ms/step - loss: 0.2393 - accuracy: 0.9130 - val_loss: 0.2687 - val_accuracy: 0.9080\n",
            "Epoch 6/10\n",
            "907/907 [==============================] - 65s 71ms/step - loss: 0.2218 - accuracy: 0.9210 - val_loss: 0.2605 - val_accuracy: 0.9085\n",
            "Epoch 7/10\n",
            "907/907 [==============================] - 65s 71ms/step - loss: 0.2038 - accuracy: 0.9256 - val_loss: 0.2381 - val_accuracy: 0.9180\n",
            "Epoch 8/10\n",
            "907/907 [==============================] - 65s 71ms/step - loss: 0.1907 - accuracy: 0.9322 - val_loss: 0.2605 - val_accuracy: 0.9115\n",
            "Epoch 9/10\n",
            "907/907 [==============================] - 65s 71ms/step - loss: 0.1709 - accuracy: 0.9380 - val_loss: 0.2316 - val_accuracy: 0.9175\n",
            "Epoch 10/10\n",
            "907/907 [==============================] - 65s 71ms/step - loss: 0.1565 - accuracy: 0.9429 - val_loss: 0.2375 - val_accuracy: 0.9230\n",
            "313/313 [==============================] - 4s 14ms/step - loss: 0.2910 - accuracy: 0.9141\n",
            "Test loss 0.2910, accuracy 91.41%\n"
          ],
          "name": "stdout"
        },
        {
          "output_type": "execute_result",
          "data": {
            "text/plain": [
              "[[576, 864, 2, 0.29571598768234253, 0.9031000137329102],\n",
              " [576, 864, 3, 0.28589770197868347, 0.9108999967575073],\n",
              " [576, 864, 4, 0.2754720151424408, 0.9114000201225281],\n",
              " [576, 864, 4, 0.3396640419960022, 0.8889999985694885],\n",
              " [384, 576, 2, 0.29102635383605957, 0.9140999913215637]]"
            ]
          },
          "metadata": {
            "tags": []
          },
          "execution_count": 34
        }
      ]
    },
    {
      "cell_type": "code",
      "metadata": {
        "execution": {
          "iopub.status.busy": "2021-05-31T18:09:37.115619Z",
          "iopub.execute_input": "2021-05-31T18:09:37.116089Z",
          "iopub.status.idle": "2021-05-31T18:20:58.952277Z",
          "shell.execute_reply.started": "2021-05-31T18:09:37.116044Z",
          "shell.execute_reply": "2021-05-31T18:20:58.951342Z"
        },
        "trusted": true,
        "id": "amDWDZ9uwACi",
        "outputId": "1f8e4397-395b-4a4f-8833-a60a39df266a"
      },
      "source": [
        "models_depth(depth=3, width_1=384, width_2=576, epochs=10)"
      ],
      "execution_count": null,
      "outputs": [
        {
          "output_type": "stream",
          "text": [
            "Epoch 1/10\n",
            "907/907 [==============================] - 69s 75ms/step - loss: 1.1211 - accuracy: 0.5303 - val_loss: 0.3526 - val_accuracy: 0.8690\n",
            "Epoch 2/10\n",
            "907/907 [==============================] - 67s 74ms/step - loss: 0.3757 - accuracy: 0.8645 - val_loss: 0.3478 - val_accuracy: 0.8730\n",
            "Epoch 3/10\n",
            "907/907 [==============================] - 68s 74ms/step - loss: 0.3128 - accuracy: 0.8878 - val_loss: 0.2805 - val_accuracy: 0.8990\n",
            "Epoch 4/10\n",
            "907/907 [==============================] - 68s 74ms/step - loss: 0.2881 - accuracy: 0.8973 - val_loss: 0.2895 - val_accuracy: 0.8910\n",
            "Epoch 5/10\n",
            "907/907 [==============================] - 67s 74ms/step - loss: 0.2604 - accuracy: 0.9034 - val_loss: 0.2882 - val_accuracy: 0.8920\n",
            "Epoch 6/10\n",
            "907/907 [==============================] - 68s 75ms/step - loss: 0.2391 - accuracy: 0.9132 - val_loss: 0.2595 - val_accuracy: 0.9055\n",
            "Epoch 7/10\n",
            "907/907 [==============================] - 68s 74ms/step - loss: 0.2173 - accuracy: 0.9223 - val_loss: 0.2569 - val_accuracy: 0.9110\n",
            "Epoch 8/10\n",
            "907/907 [==============================] - 68s 74ms/step - loss: 0.2053 - accuracy: 0.9257 - val_loss: 0.2382 - val_accuracy: 0.9180\n",
            "Epoch 9/10\n",
            "907/907 [==============================] - 67s 74ms/step - loss: 0.1920 - accuracy: 0.9312 - val_loss: 0.2189 - val_accuracy: 0.9240\n",
            "Epoch 10/10\n",
            "907/907 [==============================] - 68s 75ms/step - loss: 0.1686 - accuracy: 0.9406 - val_loss: 0.2763 - val_accuracy: 0.9105\n",
            "313/313 [==============================] - 5s 15ms/step - loss: 0.3056 - accuracy: 0.9044\n",
            "Test loss 0.3056, accuracy 90.44%\n"
          ],
          "name": "stdout"
        },
        {
          "output_type": "execute_result",
          "data": {
            "text/plain": [
              "[[576, 864, 2, 0.29571598768234253, 0.9031000137329102],\n",
              " [576, 864, 3, 0.28589770197868347, 0.9108999967575073],\n",
              " [576, 864, 4, 0.2754720151424408, 0.9114000201225281],\n",
              " [576, 864, 4, 0.3396640419960022, 0.8889999985694885],\n",
              " [384, 576, 2, 0.29102635383605957, 0.9140999913215637],\n",
              " [384, 576, 3, 0.3056318163871765, 0.9043999910354614]]"
            ]
          },
          "metadata": {
            "tags": []
          },
          "execution_count": 35
        }
      ]
    },
    {
      "cell_type": "code",
      "metadata": {
        "execution": {
          "iopub.status.busy": "2021-05-31T18:20:58.955959Z",
          "iopub.execute_input": "2021-05-31T18:20:58.956288Z",
          "iopub.status.idle": "2021-05-31T18:32:49.134293Z",
          "shell.execute_reply.started": "2021-05-31T18:20:58.956243Z",
          "shell.execute_reply": "2021-05-31T18:32:49.133199Z"
        },
        "trusted": true,
        "id": "y-fQimZGwACi",
        "outputId": "9b509ea5-fb25-4b30-8722-be823e6f0fec"
      },
      "source": [
        "models_depth(depth=4, width_1=384, width_2=576, epochs=10)"
      ],
      "execution_count": null,
      "outputs": [
        {
          "output_type": "stream",
          "text": [
            "Epoch 1/10\n",
            "907/907 [==============================] - 72s 78ms/step - loss: 1.2907 - accuracy: 0.4604 - val_loss: 0.4371 - val_accuracy: 0.8535\n",
            "Epoch 2/10\n",
            "907/907 [==============================] - 70s 78ms/step - loss: 0.4288 - accuracy: 0.8503 - val_loss: 0.3209 - val_accuracy: 0.8880\n",
            "Epoch 3/10\n",
            "907/907 [==============================] - 70s 78ms/step - loss: 0.3373 - accuracy: 0.8830 - val_loss: 0.3343 - val_accuracy: 0.8810\n",
            "Epoch 4/10\n",
            "907/907 [==============================] - 70s 77ms/step - loss: 0.2946 - accuracy: 0.8956 - val_loss: 0.2987 - val_accuracy: 0.8975\n",
            "Epoch 5/10\n",
            "907/907 [==============================] - 70s 78ms/step - loss: 0.2750 - accuracy: 0.9033 - val_loss: 0.2620 - val_accuracy: 0.8995\n",
            "Epoch 6/10\n",
            "907/907 [==============================] - 70s 78ms/step - loss: 0.2466 - accuracy: 0.9135 - val_loss: 0.2984 - val_accuracy: 0.8875\n",
            "Epoch 7/10\n",
            "907/907 [==============================] - 70s 78ms/step - loss: 0.2374 - accuracy: 0.9159 - val_loss: 0.2702 - val_accuracy: 0.9130\n",
            "Epoch 8/10\n",
            "907/907 [==============================] - 70s 78ms/step - loss: 0.2125 - accuracy: 0.9246 - val_loss: 0.2457 - val_accuracy: 0.9095\n",
            "Epoch 9/10\n",
            "907/907 [==============================] - 71s 78ms/step - loss: 0.1939 - accuracy: 0.9317 - val_loss: 0.2467 - val_accuracy: 0.9250\n",
            "Epoch 10/10\n",
            "907/907 [==============================] - 70s 78ms/step - loss: 0.1853 - accuracy: 0.9362 - val_loss: 0.2602 - val_accuracy: 0.9125\n",
            "313/313 [==============================] - 5s 16ms/step - loss: 0.2890 - accuracy: 0.9122\n",
            "Test loss 0.2890, accuracy 91.22%\n"
          ],
          "name": "stdout"
        },
        {
          "output_type": "execute_result",
          "data": {
            "text/plain": [
              "[[576, 864, 2, 0.29571598768234253, 0.9031000137329102],\n",
              " [576, 864, 3, 0.28589770197868347, 0.9108999967575073],\n",
              " [576, 864, 4, 0.2754720151424408, 0.9114000201225281],\n",
              " [576, 864, 4, 0.3396640419960022, 0.8889999985694885],\n",
              " [384, 576, 2, 0.29102635383605957, 0.9140999913215637],\n",
              " [384, 576, 3, 0.3056318163871765, 0.9043999910354614],\n",
              " [384, 576, 4, 0.28900501132011414, 0.9121999740600586]]"
            ]
          },
          "metadata": {
            "tags": []
          },
          "execution_count": 36
        }
      ]
    },
    {
      "cell_type": "code",
      "metadata": {
        "id": "24etak8VtcGg",
        "execution": {
          "iopub.status.busy": "2021-05-31T18:32:49.138651Z",
          "iopub.execute_input": "2021-05-31T18:32:49.138998Z",
          "iopub.status.idle": "2021-05-31T18:32:49.156566Z",
          "shell.execute_reply.started": "2021-05-31T18:32:49.138967Z",
          "shell.execute_reply": "2021-05-31T18:32:49.155055Z"
        },
        "trusted": true,
        "outputId": "f8ab97d7-a74f-4bfe-a96c-fffa2dc762a9"
      },
      "source": [
        "# Оценка влияния увеличения глубины сети на тестовой выборке\n",
        "pd.DataFrame(result_depth, columns=['width_1', 'width_2','depth',\n",
        "                              'loss', 'accuracy'\n",
        "                              ]).\\\n",
        "                              sort_values('accuracy',ascending=False).head(6)"
      ],
      "execution_count": null,
      "outputs": [
        {
          "output_type": "execute_result",
          "data": {
            "text/plain": [
              "   width_1  width_2  depth      loss  accuracy\n",
              "4      384      576      2  0.291026    0.9141\n",
              "6      384      576      4  0.289005    0.9122\n",
              "2      576      864      4  0.275472    0.9114\n",
              "1      576      864      3  0.285898    0.9109\n",
              "5      384      576      3  0.305632    0.9044\n",
              "0      576      864      2  0.295716    0.9031"
            ],
            "text/html": [
              "<div>\n",
              "<style scoped>\n",
              "    .dataframe tbody tr th:only-of-type {\n",
              "        vertical-align: middle;\n",
              "    }\n",
              "\n",
              "    .dataframe tbody tr th {\n",
              "        vertical-align: top;\n",
              "    }\n",
              "\n",
              "    .dataframe thead th {\n",
              "        text-align: right;\n",
              "    }\n",
              "</style>\n",
              "<table border=\"1\" class=\"dataframe\">\n",
              "  <thead>\n",
              "    <tr style=\"text-align: right;\">\n",
              "      <th></th>\n",
              "      <th>width_1</th>\n",
              "      <th>width_2</th>\n",
              "      <th>depth</th>\n",
              "      <th>loss</th>\n",
              "      <th>accuracy</th>\n",
              "    </tr>\n",
              "  </thead>\n",
              "  <tbody>\n",
              "    <tr>\n",
              "      <th>4</th>\n",
              "      <td>384</td>\n",
              "      <td>576</td>\n",
              "      <td>2</td>\n",
              "      <td>0.291026</td>\n",
              "      <td>0.9141</td>\n",
              "    </tr>\n",
              "    <tr>\n",
              "      <th>6</th>\n",
              "      <td>384</td>\n",
              "      <td>576</td>\n",
              "      <td>4</td>\n",
              "      <td>0.289005</td>\n",
              "      <td>0.9122</td>\n",
              "    </tr>\n",
              "    <tr>\n",
              "      <th>2</th>\n",
              "      <td>576</td>\n",
              "      <td>864</td>\n",
              "      <td>4</td>\n",
              "      <td>0.275472</td>\n",
              "      <td>0.9114</td>\n",
              "    </tr>\n",
              "    <tr>\n",
              "      <th>1</th>\n",
              "      <td>576</td>\n",
              "      <td>864</td>\n",
              "      <td>3</td>\n",
              "      <td>0.285898</td>\n",
              "      <td>0.9109</td>\n",
              "    </tr>\n",
              "    <tr>\n",
              "      <th>5</th>\n",
              "      <td>384</td>\n",
              "      <td>576</td>\n",
              "      <td>3</td>\n",
              "      <td>0.305632</td>\n",
              "      <td>0.9044</td>\n",
              "    </tr>\n",
              "    <tr>\n",
              "      <th>0</th>\n",
              "      <td>576</td>\n",
              "      <td>864</td>\n",
              "      <td>2</td>\n",
              "      <td>0.295716</td>\n",
              "      <td>0.9031</td>\n",
              "    </tr>\n",
              "  </tbody>\n",
              "</table>\n",
              "</div>"
            ]
          },
          "metadata": {
            "tags": []
          },
          "execution_count": 37
        }
      ]
    },
    {
      "cell_type": "markdown",
      "source": [
        "### Выводы"
      ],
      "metadata": {
        "id": "8iHd6DVmoOmS"
      }
    },
    {
      "cell_type": "markdown",
      "metadata": {
        "id": "xo8Pfua8wACk"
      },
      "source": [
        "\n",
        "* Увеличение ширины (количества ядер) приводит к росту точности. \n",
        "* Увеличение глубины (количества слоев) влияет по-разному на точность. \n",
        "* Точность полносвязной сети для тестовой выборки в исследуемом наборе данных  меньше полученной точности сверточной нейронной сети."
      ]
    }
  ]
}