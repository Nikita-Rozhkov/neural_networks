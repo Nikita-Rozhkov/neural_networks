{
  "nbformat": 4,
  "nbformat_minor": 0,
  "metadata": {
    "colab": {
      "name": "NN_hw_8.ipynb",
      "provenance": [],
      "collapsed_sections": []
    },
    "kernelspec": {
      "name": "python3",
      "display_name": "Python 3"
    },
    "language_info": {
      "name": "python"
    },
    "accelerator": "GPU"
  },
  "cells": [
    {
      "cell_type": "markdown",
      "metadata": {
        "id": "5mXiP_laVgil"
      },
      "source": [
        "# Урок 8. GAN\n",
        "\n"
      ]
    },
    {
      "cell_type": "markdown",
      "source": [
        "## Домашнее задание"
      ],
      "metadata": {
        "id": "kn6kd2-9L6aS"
      }
    },
    {
      "cell_type": "markdown",
      "source": [
        "1.   Обучите нейронную сеть любой архитектуры которой не было на курсе, либо обучите нейронную сеть разобранной архитектуры, но на том датасете, которого не было на уроках. Сделайте анализ, того, что вам помогло в улучшения работы нейронной сети.</li>   \n",
        "    \n",
        "\n",
        "*   *вариант для 1) Обучите VAE на fashion_mnist \n",
        "*   *вариант для 1) Обучите GAN на одном классе CIFAR\n",
        "*   *вариант для 1) обучите классификатор на данных tfds (Kaggle, UCI)\n",
        "*   *вариант для 1) обучите семантическую сегментацию на tfds (Kaggle, UCI)\n",
        "\n",
        "   \n",
        "2.    Сделайте краткий обзор какой-нибудь научной работы посвященной тому или иному алгоритму нейронных сетей, который не рассматривался на \n",
        "курсе. Проведите анализ: Чем отличается выбранная вами на рассмотрение архитектура нейронной сети от других архитектур? В чем плюсы и минусы данной архитектуры? Какие могут возникнуть трудности при применении данной архитектуры на практике? "
      ],
      "metadata": {
        "id": "dvjrjtq1MPnr"
      }
    },
    {
      "cell_type": "markdown",
      "source": [
        "### Задание 1"
      ],
      "metadata": {
        "id": "hSccYfAuOwjM"
      }
    },
    {
      "cell_type": "markdown",
      "source": [
        "Обучение GAN на одном классе CIFAR"
      ],
      "metadata": {
        "id": "5CVRatuXZzfs"
      }
    },
    {
      "cell_type": "markdown",
      "metadata": {
        "id": "Kp-9iRtlV1WP"
      },
      "source": [
        "#### Подключение библиотек"
      ]
    },
    {
      "cell_type": "code",
      "metadata": {
        "id": "2BOVZVb0V6zP"
      },
      "source": [
        "import tensorflow as tf\n",
        "from tensorflow import keras\n",
        "from tensorflow.keras import layers\n",
        "import numpy as np\n",
        "\n",
        "import os\n",
        "import matplotlib.pyplot as plt\n",
        "\n",
        "import tensorflow.keras as keras\n",
        "from tensorflow.keras.datasets import cifar10\n",
        "from tensorflow.keras.models import Sequential\n",
        "from tensorflow.keras.layers import Dense, Dropout, Activation, Flatten\n",
        "from tensorflow.keras.layers import Conv2D, MaxPooling2D"
      ],
      "execution_count": 1,
      "outputs": []
    },
    {
      "cell_type": "markdown",
      "source": [
        "#### Загрузка данных"
      ],
      "metadata": {
        "id": "nRCZYOocO5sW"
      }
    },
    {
      "cell_type": "code",
      "metadata": {
        "colab": {
          "base_uri": "https://localhost:8080/"
        },
        "id": "tGrSa5iTXTFK",
        "outputId": "3a477a18-9cea-47f2-c5c9-79a67f653a8d"
      },
      "source": [
        "(x_train, y_train), (x_test, y_test) = cifar10.load_data()\n",
        "\n",
        "class_num = 0\n",
        "batch_size = 32\n",
        "indices_train = np.where(y_train == class_num)\n",
        "indices_test = np.where(y_test == class_num)\n",
        "\n",
        "all_digits = np.concatenate([x_train, x_test])\n",
        "all_digits = all_digits.astype(\"float32\") / 255\n",
        "indices_train = np.where(y_train == class_num)\n",
        "indices_test = np.where(y_test == class_num)\n",
        "all_digits = all_digits[indices_train,:,:]\n",
        "all_digits = np.reshape(all_digits, (-1, 32, 32, 1))\n",
        "dataset = tf.data.Dataset.from_tensor_slices(all_digits)\n",
        "dataset = dataset.shuffle(buffer_size=1024).batch(batch_size).prefetch(32)\n",
        "\n",
        "print('all_digits shape:', all_digits.shape)"
      ],
      "execution_count": 2,
      "outputs": [
        {
          "output_type": "stream",
          "name": "stdout",
          "text": [
            "Downloading data from https://www.cs.toronto.edu/~kriz/cifar-10-python.tar.gz\n",
            "170500096/170498071 [==============================] - 3s 0us/step\n",
            "170508288/170498071 [==============================] - 3s 0us/step\n",
            "all_digits shape: (30000, 32, 32, 1)\n"
          ]
        }
      ]
    },
    {
      "cell_type": "markdown",
      "source": [
        "#### Построение модели"
      ],
      "metadata": {
        "id": "r11uYnUnPLiu"
      }
    },
    {
      "cell_type": "code",
      "metadata": {
        "colab": {
          "base_uri": "https://localhost:8080/"
        },
        "id": "7dCEgVLwZSiz",
        "outputId": "88970a8a-7def-4339-f8f6-463b43c07aef"
      },
      "source": [
        "discriminator = keras.Sequential(\n",
        "    [\n",
        "        keras.Input(shape=(32, 32, 1)),\n",
        "        layers.Conv2D(64, (3, 3), strides=(2, 2), padding='same'),\n",
        "        layers.LeakyReLU(alpha=0.2),\n",
        "        layers.Conv2D(128, (3, 3), strides=(2, 2), padding='same'),\n",
        "        layers.LeakyReLU(alpha=0.2),\n",
        "        layers.GlobalMaxPooling2D(),\n",
        "        layers.Dense(1),\n",
        "    ],\n",
        "    name=\"discriminator\",\n",
        ")\n",
        "\n",
        "discriminator.summary()"
      ],
      "execution_count": 3,
      "outputs": [
        {
          "output_type": "stream",
          "name": "stdout",
          "text": [
            "Model: \"discriminator\"\n",
            "_________________________________________________________________\n",
            " Layer (type)                Output Shape              Param #   \n",
            "=================================================================\n",
            " conv2d (Conv2D)             (None, 16, 16, 64)        640       \n",
            "                                                                 \n",
            " leaky_re_lu (LeakyReLU)     (None, 16, 16, 64)        0         \n",
            "                                                                 \n",
            " conv2d_1 (Conv2D)           (None, 8, 8, 128)         73856     \n",
            "                                                                 \n",
            " leaky_re_lu_1 (LeakyReLU)   (None, 8, 8, 128)         0         \n",
            "                                                                 \n",
            " global_max_pooling2d (Globa  (None, 128)              0         \n",
            " lMaxPooling2D)                                                  \n",
            "                                                                 \n",
            " dense (Dense)               (None, 1)                 129       \n",
            "                                                                 \n",
            "=================================================================\n",
            "Total params: 74,625\n",
            "Trainable params: 74,625\n",
            "Non-trainable params: 0\n",
            "_________________________________________________________________\n"
          ]
        }
      ]
    },
    {
      "cell_type": "code",
      "metadata": {
        "colab": {
          "base_uri": "https://localhost:8080/"
        },
        "id": "EA97nNSmbb1Q",
        "outputId": "d05aee1d-127d-491b-967b-caf84afe6706"
      },
      "source": [
        "latent_dim = 64\n",
        "\n",
        "generator = keras.Sequential(\n",
        "    [\n",
        "        keras.Input(shape=(latent_dim,)),\n",
        "        layers.Dense(32 * 32 * 64),\n",
        "        layers.LeakyReLU(alpha=0.2),\n",
        "        layers.Reshape((32, 32, 64)),\n",
        "        layers.Conv2DTranspose(64, (3, 3), padding=\"same\"),\n",
        "        layers.LeakyReLU(alpha=0.2),\n",
        "        layers.Conv2DTranspose(256, (3, 3), padding=\"same\"),\n",
        "        layers.LeakyReLU(alpha=0.2),\n",
        "        layers.Conv2D(1, (32, 32), padding=\"same\", activation=\"sigmoid\"),\n",
        "    ],\n",
        "    name=\"generator\",\n",
        ")\n",
        "\n",
        "generator.summary()"
      ],
      "execution_count": 4,
      "outputs": [
        {
          "output_type": "stream",
          "name": "stdout",
          "text": [
            "Model: \"generator\"\n",
            "_________________________________________________________________\n",
            " Layer (type)                Output Shape              Param #   \n",
            "=================================================================\n",
            " dense_1 (Dense)             (None, 65536)             4259840   \n",
            "                                                                 \n",
            " leaky_re_lu_2 (LeakyReLU)   (None, 65536)             0         \n",
            "                                                                 \n",
            " reshape (Reshape)           (None, 32, 32, 64)        0         \n",
            "                                                                 \n",
            " conv2d_transpose (Conv2DTra  (None, 32, 32, 64)       36928     \n",
            " nspose)                                                         \n",
            "                                                                 \n",
            " leaky_re_lu_3 (LeakyReLU)   (None, 32, 32, 64)        0         \n",
            "                                                                 \n",
            " conv2d_transpose_1 (Conv2DT  (None, 32, 32, 256)      147712    \n",
            " ranspose)                                                       \n",
            "                                                                 \n",
            " leaky_re_lu_4 (LeakyReLU)   (None, 32, 32, 256)       0         \n",
            "                                                                 \n",
            " conv2d_2 (Conv2D)           (None, 32, 32, 1)         262145    \n",
            "                                                                 \n",
            "=================================================================\n",
            "Total params: 4,706,625\n",
            "Trainable params: 4,706,625\n",
            "Non-trainable params: 0\n",
            "_________________________________________________________________\n"
          ]
        }
      ]
    },
    {
      "cell_type": "code",
      "metadata": {
        "id": "cMXcLPEkbqvH"
      },
      "source": [
        "class GAN(keras.Model):\n",
        "    def __init__(self, discriminator, generator, latent_dim):\n",
        "        super(GAN, self).__init__()\n",
        "        self.discriminator = discriminator\n",
        "        self.generator = generator\n",
        "        self.latent_dim = latent_dim\n",
        "\n",
        "    def compile(self, d_optimizer, g_optimizer, loss_fn):\n",
        "        super(GAN, self).compile()\n",
        "        self.d_optimizer = d_optimizer\n",
        "        self.g_optimizer = g_optimizer\n",
        "        self.loss_fn = loss_fn\n",
        "\n",
        "    def train_step(self, real_images):\n",
        "        if isinstance(real_images, tuple):\n",
        "            real_images = real_images[0]\n",
        "        # берем случайный пример из скрытого пространства\n",
        "        batch_size = tf.shape(real_images)[0]\n",
        "        random_latent_vectors = tf.random.normal(shape=(batch_size, self.latent_dim))\n",
        "\n",
        "        # строим по нему фейковое изображение\n",
        "        generated_images = self.generator(random_latent_vectors)\n",
        "\n",
        "        # собрали с реальным изображением в тензор\n",
        "        combined_images = tf.concat([generated_images, real_images], axis=0)\n",
        "\n",
        "        # задаем метки 1 и 0 соответственно\n",
        "        labels = tf.concat(\n",
        "            [tf.ones((batch_size, 1)), tf.zeros((batch_size, 1))], axis=0\n",
        "        )\n",
        "        # добавляем шум\n",
        "        labels += 0.05 * tf.random.uniform(tf.shape(labels))\n",
        "\n",
        "        # обучаем discriminator\n",
        "        with tf.GradientTape() as tape:\n",
        "            predictions = self.discriminator(combined_images)\n",
        "            d_loss = self.loss_fn(labels, predictions)\n",
        "        grads = tape.gradient(d_loss, self.discriminator.trainable_weights)\n",
        "        self.d_optimizer.apply_gradients(\n",
        "            zip(grads, self.discriminator.trainable_weights)\n",
        "        )\n",
        "\n",
        "        #выбрали случайный пример в скрытом пространстве\n",
        "        random_latent_vectors = tf.random.normal(shape=(batch_size, self.latent_dim))\n",
        "\n",
        "        # собрали метки реальных изображений\n",
        "        misleading_labels = tf.zeros((batch_size, 1))\n",
        "\n",
        "        # обучаем generator\n",
        "        with tf.GradientTape() as tape:\n",
        "            predictions = self.discriminator(self.generator(random_latent_vectors))\n",
        "            g_loss = self.loss_fn(misleading_labels, predictions)\n",
        "        grads = tape.gradient(g_loss, self.generator.trainable_weights)\n",
        "        self.g_optimizer.apply_gradients(zip(grads, self.generator.trainable_weights))\n",
        "        return {\"d_loss\": d_loss, \"g_loss\": g_loss}\n"
      ],
      "execution_count": 5,
      "outputs": []
    },
    {
      "cell_type": "code",
      "metadata": {
        "id": "YvImO4mgbvtn"
      },
      "source": [
        "class GANMonitor(keras.callbacks.Callback):\n",
        "    def __init__(self, num_img=3, latent_dim=64):\n",
        "        self.num_img = num_img\n",
        "        self.latent_dim = latent_dim\n",
        "\n",
        "    def on_epoch_end(self, epoch, logs=None):\n",
        "        random_latent_vectors = tf.random.normal(shape=(self.num_img, self.latent_dim))\n",
        "        generated_images = self.model.generator(random_latent_vectors)\n",
        "        generated_images *= 255\n",
        "        generated_images.numpy()\n",
        "        for i in range(self.num_img):\n",
        "            img = keras.preprocessing.image.array_to_img(generated_images[i])\n",
        "            img.save(\"generated_img_{i}_{epoch}.png\".format(i=i, epoch=epoch))\n"
      ],
      "execution_count": 6,
      "outputs": []
    },
    {
      "cell_type": "markdown",
      "source": [
        "#### Обучение модели"
      ],
      "metadata": {
        "id": "Ytdunl3jZj4d"
      }
    },
    {
      "cell_type": "code",
      "metadata": {
        "colab": {
          "base_uri": "https://localhost:8080/"
        },
        "id": "L_FWt2_Vbzt0",
        "outputId": "3e6df7dd-ab4b-4dbc-9ddc-48f5be2f0e26"
      },
      "source": [
        "epochs = 25\n",
        "\n",
        "gan = GAN(discriminator=discriminator, generator=generator, latent_dim=latent_dim)\n",
        "gan.compile(\n",
        "    d_optimizer=keras.optimizers.SGD(),\n",
        "    g_optimizer=keras.optimizers.SGD(),\n",
        "    loss_fn=keras.losses.BinaryCrossentropy(from_logits=True),\n",
        ")\n",
        "\n",
        "gan.fit(\n",
        "    dataset, epochs=epochs, callbacks=[GANMonitor(num_img=3, latent_dim=latent_dim)]\n",
        ")"
      ],
      "execution_count": 7,
      "outputs": [
        {
          "output_type": "stream",
          "name": "stdout",
          "text": [
            "Epoch 1/25\n",
            "938/938 [==============================] - 83s 71ms/step - d_loss: 0.5633 - g_loss: 0.8462\n",
            "Epoch 2/25\n",
            "938/938 [==============================] - 62s 66ms/step - d_loss: 0.2609 - g_loss: 2.1586\n",
            "Epoch 3/25\n",
            "938/938 [==============================] - 62s 66ms/step - d_loss: 0.0308 - g_loss: 4.9211\n",
            "Epoch 4/25\n",
            "938/938 [==============================] - 62s 66ms/step - d_loss: -0.0129 - g_loss: 9.8441\n",
            "Epoch 5/25\n",
            "938/938 [==============================] - 62s 66ms/step - d_loss: -0.0936 - g_loss: 16.8824\n",
            "Epoch 6/25\n",
            "938/938 [==============================] - 62s 66ms/step - d_loss: 0.2873 - g_loss: 3.0539\n",
            "Epoch 7/25\n",
            "938/938 [==============================] - 61s 65ms/step - d_loss: 0.1054 - g_loss: 4.9827\n",
            "Epoch 8/25\n",
            "938/938 [==============================] - 62s 66ms/step - d_loss: 0.4701 - g_loss: 1.6932\n",
            "Epoch 9/25\n",
            "938/938 [==============================] - 62s 66ms/step - d_loss: 0.5950 - g_loss: 0.9245\n",
            "Epoch 10/25\n",
            "938/938 [==============================] - 61s 66ms/step - d_loss: 0.6057 - g_loss: 0.9400\n",
            "Epoch 11/25\n",
            "938/938 [==============================] - 62s 66ms/step - d_loss: 0.5892 - g_loss: 0.9711\n",
            "Epoch 12/25\n",
            "938/938 [==============================] - 62s 66ms/step - d_loss: 0.6137 - g_loss: 0.9784\n",
            "Epoch 13/25\n",
            "938/938 [==============================] - 62s 66ms/step - d_loss: 0.6211 - g_loss: 0.9364\n",
            "Epoch 14/25\n",
            "938/938 [==============================] - 62s 66ms/step - d_loss: 0.5945 - g_loss: 0.9921\n",
            "Epoch 15/25\n",
            "938/938 [==============================] - 61s 65ms/step - d_loss: 0.6144 - g_loss: 0.9749\n",
            "Epoch 16/25\n",
            "938/938 [==============================] - 61s 65ms/step - d_loss: 0.5843 - g_loss: 1.0635\n",
            "Epoch 17/25\n",
            "938/938 [==============================] - 62s 66ms/step - d_loss: 0.5883 - g_loss: 1.0371\n",
            "Epoch 18/25\n",
            "938/938 [==============================] - 61s 65ms/step - d_loss: 0.5479 - g_loss: 1.1382\n",
            "Epoch 19/25\n",
            "938/938 [==============================] - 61s 66ms/step - d_loss: 0.5571 - g_loss: 1.1331\n",
            "Epoch 20/25\n",
            "938/938 [==============================] - 62s 66ms/step - d_loss: 0.5540 - g_loss: 1.1527\n",
            "Epoch 21/25\n",
            "938/938 [==============================] - 61s 65ms/step - d_loss: 0.5441 - g_loss: 1.2093\n",
            "Epoch 22/25\n",
            "938/938 [==============================] - 62s 66ms/step - d_loss: 0.5106 - g_loss: 1.2679\n",
            "Epoch 23/25\n",
            "938/938 [==============================] - 62s 66ms/step - d_loss: 0.5259 - g_loss: 1.2523\n",
            "Epoch 24/25\n",
            "938/938 [==============================] - 62s 66ms/step - d_loss: 0.5658 - g_loss: 1.1710\n",
            "Epoch 25/25\n",
            "938/938 [==============================] - 62s 66ms/step - d_loss: 0.5241 - g_loss: 1.2568\n"
          ]
        },
        {
          "output_type": "execute_result",
          "data": {
            "text/plain": [
              "<keras.callbacks.History at 0x7f20305f0f10>"
            ]
          },
          "metadata": {},
          "execution_count": 7
        }
      ]
    },
    {
      "cell_type": "code",
      "metadata": {
        "colab": {
          "base_uri": "https://localhost:8080/",
          "height": 625
        },
        "id": "xWYndtDQvulj",
        "outputId": "44990ccd-da29-4b01-ee5d-c6a03fcdba88"
      },
      "source": [
        "from IPython.display import Image, display\n",
        "\n",
        "for i in range(1,20):\n",
        "  display(Image(\"generated_img_0_\"+str(i)+\".png\"))"
      ],
      "execution_count": 8,
      "outputs": [
        {
          "output_type": "display_data",
          "data": {
            "text/plain": [
              "<IPython.core.display.Image object>"
            ],
            "image/png": "[encoded data removed]"
          },
          "metadata": {}
        },
        {
          "output_type": "display_data",
          "data": {
            "text/plain": [
              "<IPython.core.display.Image object>"
            ],
            "image/png": "[encoded data removed]"
          },
          "metadata": {}
        },
        {
          "output_type": "display_data",
          "data": {
            "text/plain": [
              "<IPython.core.display.Image object>"
            ],
            "image/png": "[encoded data removed]"
          },
          "metadata": {}
        },
        {
          "output_type": "display_data",
          "data": {
            "text/plain": [
              "<IPython.core.display.Image object>"
            ],
            "image/png": "[encoded data removed]"
          },
          "metadata": {}
        },
        {
          "output_type": "display_data",
          "data": {
            "text/plain": [
              "<IPython.core.display.Image object>"
            ],
            "image/png": "[encoded data removed]"
          },
          "metadata": {}
        },
        {
          "output_type": "display_data",
          "data": {
            "text/plain": [
              "<IPython.core.display.Image object>"
            ],
            "image/png": "[encoded data removed]"
          },
          "metadata": {}
        },
        {
          "output_type": "display_data",
          "data": {
            "text/plain": [
              "<IPython.core.display.Image object>"
            ],
            "image/png": "[encoded data removed]"
          },
          "metadata": {}
        },
        {
          "output_type": "display_data",
          "data": {
            "text/plain": [
              "<IPython.core.display.Image object>"
            ],
            "image/png": "[encoded data removed]"
          },
          "metadata": {}
        },
        {
          "output_type": "display_data",
          "data": {
            "text/plain": [
              "<IPython.core.display.Image object>"
            ],
            "image/png": "[encoded data removed]"
          },
          "metadata": {}
        },
        {
          "output_type": "display_data",
          "data": {
            "text/plain": [
              "<IPython.core.display.Image object>"
            ],
            "image/png": "[encoded data removed]"
          },
          "metadata": {}
        },
        {
          "output_type": "display_data",
          "data": {
            "text/plain": [
              "<IPython.core.display.Image object>"
            ],
            "image/png": "[encoded data removed]"
          },
          "metadata": {}
        },
        {
          "output_type": "display_data",
          "data": {
            "text/plain": [
              "<IPython.core.display.Image object>"
            ],
            "image/png": "[encoded data removed]"
          },
          "metadata": {}
        },
        {
          "output_type": "display_data",
          "data": {
            "text/plain": [
              "<IPython.core.display.Image object>"
            ],
            "image/png": "[encoded data removed]"
          },
          "metadata": {}
        },
        {
          "output_type": "display_data",
          "data": {
            "text/plain": [
              "<IPython.core.display.Image object>"
            ],
            "image/png": "[encoded data removed]"
          },
          "metadata": {}
        },
        {
          "output_type": "display_data",
          "data": {
            "text/plain": [
              "<IPython.core.display.Image object>"
            ],
            "image/png": "[encoded data removed]"
          },
          "metadata": {}
        },
        {
          "output_type": "display_data",
          "data": {
            "text/plain": [
              "<IPython.core.display.Image object>"
            ],
            "image/png": "[encoded data removed]"
          },
          "metadata": {}
        },
        {
          "output_type": "display_data",
          "data": {
            "text/plain": [
              "<IPython.core.display.Image object>"
            ],
            "image/png": "[encoded data removed]"
          },
          "metadata": {}
        },
        {
          "output_type": "display_data",
          "data": {
            "text/plain": [
              "<IPython.core.display.Image object>"
            ],
            "image/png": "[encoded data removed]"
          },
          "metadata": {}
        },
        {
          "output_type": "display_data",
          "data": {
            "text/plain": [
              "<IPython.core.display.Image object>"
            ],
            "image/png": "[encoded data removed]"
          },
          "metadata": {}
        }
      ]
    },
    {
      "cell_type": "markdown",
      "metadata": {
        "id": "nTjvIXIh4J6F"
      },
      "source": [
        "#### Вывод\n"
      ]
    },
    {
      "cell_type": "markdown",
      "source": [
        "В улучшении  работы сети помогли следующие параметры: latent_dim равный 64, 25 эпох, оптимизатор SGD\n"
      ],
      "metadata": {
        "id": "sNTcdleoaksU"
      }
    },
    {
      "cell_type": "markdown",
      "source": [
        "### Задание 2"
      ],
      "metadata": {
        "id": "s_S7-ASPbT8o"
      }
    },
    {
      "cell_type": "markdown",
      "source": [
        "Modeling Long- and Short-Term Temporal Patterns with Deep Neural Networks"
      ],
      "metadata": {
        "id": "PdKScGqUgD0Q"
      }
    },
    {
      "cell_type": "markdown",
      "source": [
        "https://arxiv.org/pdf/1703.07015.pdf"
      ],
      "metadata": {
        "id": "mW8QWEMlgZCX"
      }
    },
    {
      "cell_type": "markdown",
      "source": [
        "Рекурентная модель с пропуском слоя, которая настроена так, чтобы учитывать переодичность данных. Оказалось, что во многих временных рядах есть ситуации, которые плохо моделируются нелинейными моделями глубокого обучения. В статье приводится описание адаптации архитектуры с помощью традиционной линейной модели - авторегрессии (AR). Итоговая модель LSTNet, комбинировала выходы модели AR и модели с обычным рекурентным слоем и параллельным пропуском рекурентного слоя.\n",
        "\n",
        "Выходные данные сверточного слоя передаются recurent-skip компоненту. Закрытый рекуррентный нейрон разворачивается через q временных шагов. Выходы от развернутых нейронов, разделенных заранее заданным временным интервалом (сезонным периодом), позже используются в сети. На практике рекурентные нейроны не фиксируют долгосрочные зависимости. При прогнозировании потребления электроэнергии измерения за предыдущий день могут быть очень полезными предикторами. Введя пропуск подключений с интервалом в 24 часа, авторы гарантируют, что модель может использовать эти исторические зависимости."
      ],
      "metadata": {
        "id": "yrY8AZYbg5zL"
      }
    }
  ]
}